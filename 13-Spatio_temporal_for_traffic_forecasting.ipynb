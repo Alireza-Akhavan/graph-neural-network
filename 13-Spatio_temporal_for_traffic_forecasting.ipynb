{
  "cells": [
    {
      "cell_type": "code",
      "source": [
        "import os\n",
        "import torch\n",
        "os.environ['TORCH'] = torch.__version__\n",
        "print(torch.__version__)\n",
        "\n",
        "!pip install -q torch-scatter -f https://data.pyg.org/whl/torch-${TORCH}.html\n",
        "!pip install -q torch-sparse -f https://data.pyg.org/whl/torch-${TORCH}.html\n",
        "!pip install -q git+https://github.com/pyg-team/pytorch_geometric.git\n"
      ],
      "metadata": {
        "id": "ogEahM1zueKB",
        "outputId": "c0ac65b2-4b03-41ab-dce4-5605b8c5e27f",
        "colab": {
          "base_uri": "https://localhost:8080/"
        }
      },
      "execution_count": 1,
      "outputs": [
        {
          "output_type": "stream",
          "name": "stdout",
          "text": [
            "2.0.1+cu118\n",
            "\u001b[2K     \u001b[90m━━━━━━━━━━━━━━━━━━━━━━━━━━━━━━━━━━━━━━━━\u001b[0m \u001b[32m10.2/10.2 MB\u001b[0m \u001b[31m57.5 MB/s\u001b[0m eta \u001b[36m0:00:00\u001b[0m\n",
            "\u001b[2K     \u001b[90m━━━━━━━━━━━━━━━━━━━━━━━━━━━━━━━━━━━━━━━━\u001b[0m \u001b[32m4.8/4.8 MB\u001b[0m \u001b[31m61.6 MB/s\u001b[0m eta \u001b[36m0:00:00\u001b[0m\n",
            "\u001b[?25h  Installing build dependencies ... \u001b[?25l\u001b[?25hdone\n",
            "  Getting requirements to build wheel ... \u001b[?25l\u001b[?25hdone\n",
            "  Preparing metadata (pyproject.toml) ... \u001b[?25l\u001b[?25hdone\n",
            "  Building wheel for torch_geometric (pyproject.toml) ... \u001b[?25l\u001b[?25hdone\n"
          ]
        }
      ]
    },
    {
      "cell_type": "code",
      "source": [
        "!pip install torch-geometric-temporal"
      ],
      "metadata": {
        "id": "YrosF_nHxmLI",
        "outputId": "35bbfe7b-56d3-4d64-ddad-092c0bd503f9",
        "colab": {
          "base_uri": "https://localhost:8080/"
        }
      },
      "execution_count": 2,
      "outputs": [
        {
          "output_type": "stream",
          "name": "stdout",
          "text": [
            "Looking in indexes: https://pypi.org/simple, https://us-python.pkg.dev/colab-wheels/public/simple/\n",
            "Collecting torch-geometric-temporal\n",
            "  Downloading torch_geometric_temporal-0.54.0.tar.gz (48 kB)\n",
            "\u001b[2K     \u001b[90m━━━━━━━━━━━━━━━━━━━━━━━━━━━━━━━━━━━━━━━━\u001b[0m \u001b[32m48.1/48.1 kB\u001b[0m \u001b[31m4.7 MB/s\u001b[0m eta \u001b[36m0:00:00\u001b[0m\n",
            "\u001b[?25h  Preparing metadata (setup.py) ... \u001b[?25l\u001b[?25hdone\n",
            "Requirement already satisfied: decorator==4.4.2 in /usr/local/lib/python3.10/dist-packages (from torch-geometric-temporal) (4.4.2)\n",
            "Requirement already satisfied: torch in /usr/local/lib/python3.10/dist-packages (from torch-geometric-temporal) (2.0.1+cu118)\n",
            "Requirement already satisfied: cython in /usr/local/lib/python3.10/dist-packages (from torch-geometric-temporal) (0.29.34)\n",
            "Collecting pandas<=1.3.5 (from torch-geometric-temporal)\n",
            "  Downloading pandas-1.3.5-cp310-cp310-manylinux_2_17_x86_64.manylinux2014_x86_64.whl (11.5 MB)\n",
            "\u001b[2K     \u001b[90m━━━━━━━━━━━━━━━━━━━━━━━━━━━━━━━━━━━━━━━━\u001b[0m \u001b[32m11.5/11.5 MB\u001b[0m \u001b[31m71.6 MB/s\u001b[0m eta \u001b[36m0:00:00\u001b[0m\n",
            "\u001b[?25hRequirement already satisfied: torch_sparse in /usr/local/lib/python3.10/dist-packages (from torch-geometric-temporal) (0.6.17+pt20cu118)\n",
            "Requirement already satisfied: torch_scatter in /usr/local/lib/python3.10/dist-packages (from torch-geometric-temporal) (2.1.1+pt20cu118)\n",
            "Requirement already satisfied: torch_geometric in /usr/local/lib/python3.10/dist-packages (from torch-geometric-temporal) (2.4.0)\n",
            "Requirement already satisfied: numpy in /usr/local/lib/python3.10/dist-packages (from torch-geometric-temporal) (1.22.4)\n",
            "Requirement already satisfied: six in /usr/local/lib/python3.10/dist-packages (from torch-geometric-temporal) (1.16.0)\n",
            "Requirement already satisfied: networkx in /usr/local/lib/python3.10/dist-packages (from torch-geometric-temporal) (3.1)\n",
            "Requirement already satisfied: python-dateutil>=2.7.3 in /usr/local/lib/python3.10/dist-packages (from pandas<=1.3.5->torch-geometric-temporal) (2.8.2)\n",
            "Requirement already satisfied: pytz>=2017.3 in /usr/local/lib/python3.10/dist-packages (from pandas<=1.3.5->torch-geometric-temporal) (2022.7.1)\n",
            "Requirement already satisfied: filelock in /usr/local/lib/python3.10/dist-packages (from torch->torch-geometric-temporal) (3.12.0)\n",
            "Requirement already satisfied: typing-extensions in /usr/local/lib/python3.10/dist-packages (from torch->torch-geometric-temporal) (4.5.0)\n",
            "Requirement already satisfied: sympy in /usr/local/lib/python3.10/dist-packages (from torch->torch-geometric-temporal) (1.11.1)\n",
            "Requirement already satisfied: jinja2 in /usr/local/lib/python3.10/dist-packages (from torch->torch-geometric-temporal) (3.1.2)\n",
            "Requirement already satisfied: triton==2.0.0 in /usr/local/lib/python3.10/dist-packages (from torch->torch-geometric-temporal) (2.0.0)\n",
            "Requirement already satisfied: cmake in /usr/local/lib/python3.10/dist-packages (from triton==2.0.0->torch->torch-geometric-temporal) (3.25.2)\n",
            "Requirement already satisfied: lit in /usr/local/lib/python3.10/dist-packages (from triton==2.0.0->torch->torch-geometric-temporal) (16.0.5)\n",
            "Requirement already satisfied: tqdm in /usr/local/lib/python3.10/dist-packages (from torch_geometric->torch-geometric-temporal) (4.65.0)\n",
            "Requirement already satisfied: scipy in /usr/local/lib/python3.10/dist-packages (from torch_geometric->torch-geometric-temporal) (1.10.1)\n",
            "Requirement already satisfied: requests in /usr/local/lib/python3.10/dist-packages (from torch_geometric->torch-geometric-temporal) (2.27.1)\n",
            "Requirement already satisfied: pyparsing in /usr/local/lib/python3.10/dist-packages (from torch_geometric->torch-geometric-temporal) (3.0.9)\n",
            "Requirement already satisfied: scikit-learn in /usr/local/lib/python3.10/dist-packages (from torch_geometric->torch-geometric-temporal) (1.2.2)\n",
            "Requirement already satisfied: psutil>=5.8.0 in /usr/local/lib/python3.10/dist-packages (from torch_geometric->torch-geometric-temporal) (5.9.5)\n",
            "Requirement already satisfied: MarkupSafe>=2.0 in /usr/local/lib/python3.10/dist-packages (from jinja2->torch->torch-geometric-temporal) (2.1.2)\n",
            "Requirement already satisfied: urllib3<1.27,>=1.21.1 in /usr/local/lib/python3.10/dist-packages (from requests->torch_geometric->torch-geometric-temporal) (1.26.15)\n",
            "Requirement already satisfied: certifi>=2017.4.17 in /usr/local/lib/python3.10/dist-packages (from requests->torch_geometric->torch-geometric-temporal) (2022.12.7)\n",
            "Requirement already satisfied: charset-normalizer~=2.0.0 in /usr/local/lib/python3.10/dist-packages (from requests->torch_geometric->torch-geometric-temporal) (2.0.12)\n",
            "Requirement already satisfied: idna<4,>=2.5 in /usr/local/lib/python3.10/dist-packages (from requests->torch_geometric->torch-geometric-temporal) (3.4)\n",
            "Requirement already satisfied: joblib>=1.1.1 in /usr/local/lib/python3.10/dist-packages (from scikit-learn->torch_geometric->torch-geometric-temporal) (1.2.0)\n",
            "Requirement already satisfied: threadpoolctl>=2.0.0 in /usr/local/lib/python3.10/dist-packages (from scikit-learn->torch_geometric->torch-geometric-temporal) (3.1.0)\n",
            "Requirement already satisfied: mpmath>=0.19 in /usr/local/lib/python3.10/dist-packages (from sympy->torch->torch-geometric-temporal) (1.3.0)\n",
            "Building wheels for collected packages: torch-geometric-temporal\n",
            "  Building wheel for torch-geometric-temporal (setup.py) ... \u001b[?25l\u001b[?25hdone\n",
            "  Created wheel for torch-geometric-temporal: filename=torch_geometric_temporal-0.54.0-py3-none-any.whl size=86726 sha256=6aa040e9271929d768fb5f451edce41325963ace51d834dba370a11f28cc3e65\n",
            "  Stored in directory: /root/.cache/pip/wheels/9e/9b/b6/e15256e053f0cb49b1084a67a709db909d418386a231f0722c\n",
            "Successfully built torch-geometric-temporal\n",
            "Installing collected packages: pandas, torch-geometric-temporal\n",
            "  Attempting uninstall: pandas\n",
            "    Found existing installation: pandas 1.5.3\n",
            "    Uninstalling pandas-1.5.3:\n",
            "      Successfully uninstalled pandas-1.5.3\n",
            "\u001b[31mERROR: pip's dependency resolver does not currently take into account all the packages that are installed. This behaviour is the source of the following dependency conflicts.\n",
            "google-colab 1.0.0 requires pandas==1.5.3, but you have pandas 1.3.5 which is incompatible.\u001b[0m\u001b[31m\n",
            "\u001b[0mSuccessfully installed pandas-1.3.5 torch-geometric-temporal-0.54.0\n"
          ]
        }
      ]
    },
    {
      "cell_type": "code",
      "execution_count": 3,
      "metadata": {
        "execution": {
          "iopub.execute_input": "2021-12-26T14:44:28.669393Z",
          "iopub.status.busy": "2021-12-26T14:44:28.668621Z",
          "iopub.status.idle": "2021-12-26T14:44:36.833339Z",
          "shell.execute_reply": "2021-12-26T14:44:36.832761Z",
          "shell.execute_reply.started": "2021-12-26T14:27:21.629074Z"
        },
        "papermill": {
          "duration": 8.187854,
          "end_time": "2021-12-26T14:44:36.833462",
          "exception": false,
          "start_time": "2021-12-26T14:44:28.645608",
          "status": "completed"
        },
        "tags": [],
        "id": "986XexrouG-L"
      },
      "outputs": [],
      "source": [
        "import numpy as np\n",
        "import matplotlib.pyplot as plt\n",
        "import seaborn as sns\n",
        "import networkx as nx\n",
        "\n",
        "import torch\n",
        "import torch.nn.functional as F\n",
        "from torch_geometric.nn import GCNConv\n",
        "from torch_geometric_temporal.nn.recurrent import A3TGCN2\n",
        "from torch_geometric_temporal.signal import temporal_signal_split\n",
        "\n",
        "# GPU support\n",
        "DEVICE = torch.device('cuda') # cuda\n",
        "shuffle=True\n",
        "batch_size = 32"
      ]
    },
    {
      "cell_type": "markdown",
      "metadata": {
        "papermill": {
          "duration": 0.016367,
          "end_time": "2021-12-26T14:44:36.867084",
          "exception": false,
          "start_time": "2021-12-26T14:44:36.850717",
          "status": "completed"
        },
        "tags": [],
        "id": "aNCgR8mguG-N"
      },
      "source": [
        "<h1>\n",
        "<center>A3T-GCN: Attention Temporal Graph\n",
        "Convolutional Network for Traffic Forecasting</center>\n",
        "</h1>\n"
      ]
    },
    {
      "cell_type": "markdown",
      "metadata": {
        "papermill": {
          "duration": 0.028442,
          "end_time": "2021-12-26T14:44:36.914189",
          "exception": false,
          "start_time": "2021-12-26T14:44:36.885747",
          "status": "completed"
        },
        "tags": [],
        "id": "BH76jAOouG-O"
      },
      "source": [
        "## Dataset\n",
        "- Traffic forecasting dataset based on Los Angeles Metropolitan traffic\n",
        "- 207 loop detectors on highways\n",
        "- March 2012 - June 2012\n",
        "- From the paper: Diffusion Convolutional Recurrent Neural Network\n"
      ]
    },
    {
      "cell_type": "code",
      "execution_count": 7,
      "metadata": {
        "execution": {
          "iopub.execute_input": "2021-12-26T14:44:36.984196Z",
          "iopub.status.busy": "2021-12-26T14:44:36.983350Z",
          "iopub.status.idle": "2021-12-26T14:44:42.177982Z",
          "shell.execute_reply": "2021-12-26T14:44:42.177369Z",
          "shell.execute_reply.started": "2021-12-26T14:27:29.422377Z"
        },
        "papermill": {
          "duration": 5.23249,
          "end_time": "2021-12-26T14:44:42.178137",
          "exception": false,
          "start_time": "2021-12-26T14:44:36.945647",
          "status": "completed"
        },
        "tags": [],
        "id": "cgj3bvSmuG-Q",
        "outputId": "67e33245-9f1e-4104-f508-55ca886b9a31",
        "colab": {
          "base_uri": "https://localhost:8080/"
        }
      },
      "outputs": [
        {
          "output_type": "stream",
          "name": "stdout",
          "text": [
            "Dataset type:   <torch_geometric_temporal.signal.static_graph_temporal_signal.StaticGraphTemporalSignal object at 0x7f802aedf700>\n"
          ]
        }
      ],
      "source": [
        "import numpy as np\n",
        "from torch_geometric_temporal.dataset import METRLADatasetLoader\n",
        "from torch_geometric_temporal.signal import StaticGraphTemporalSignal\n",
        "\n",
        "loader = METRLADatasetLoader()\n",
        "dataset = loader.get_dataset(num_timesteps_in=12, num_timesteps_out=12)\n",
        "\n",
        "print(\"Dataset type:  \", dataset)"
      ]
    },
    {
      "cell_type": "markdown",
      "metadata": {
        "papermill": {
          "duration": 0.017871,
          "end_time": "2021-12-26T14:44:42.214487",
          "exception": false,
          "start_time": "2021-12-26T14:44:42.196616",
          "status": "completed"
        },
        "tags": [],
        "id": "zOWEiUCbuG-R"
      },
      "source": [
        "#### Data Sample\n",
        "- 207 nodes\n",
        "- 2 features per node (speed, time)\n",
        "- 12 timesteps per bucket (12 x 5 min = 60 min)\n",
        "- Labels for 12 future timesteps (normalized speed) --> node regression\n",
        "- Edge_attr is build based on the distances between sensors + threshold\n",
        "- Further details: https://pytorch-geometric-temporal.readthedocs.io/en/latest/_modules/torch_geometric_temporal/dataset/metr_la.html#METRLADatasetLoader\n",
        "- Raw data: https://graphmining.ai/temporal_datasets/METR-LA.zip"
      ]
    },
    {
      "cell_type": "code",
      "source": [
        "len(list(dataset))"
      ],
      "metadata": {
        "id": "zYjyZWVmy2pp",
        "outputId": "f6c84f96-f2b7-46f0-d324-ff338650d83b",
        "colab": {
          "base_uri": "https://localhost:8080/"
        }
      },
      "execution_count": 10,
      "outputs": [
        {
          "output_type": "execute_result",
          "data": {
            "text/plain": [
              "34249"
            ]
          },
          "metadata": {},
          "execution_count": 10
        }
      ]
    },
    {
      "cell_type": "code",
      "source": [
        "list(dataset)[0]"
      ],
      "metadata": {
        "id": "H6oHpDRAzAxM",
        "outputId": "0c56eabd-3b40-4278-f221-8cd1c6a18cae",
        "colab": {
          "base_uri": "https://localhost:8080/"
        }
      },
      "execution_count": 12,
      "outputs": [
        {
          "output_type": "execute_result",
          "data": {
            "text/plain": [
              "Data(x=[207, 2, 12], edge_index=[2, 1722], edge_attr=[1722], y=[207, 12])"
            ]
          },
          "metadata": {},
          "execution_count": 12
        }
      ]
    },
    {
      "cell_type": "code",
      "source": [
        "len(list(dataset)[0].y) # we have 207 sensors"
      ],
      "metadata": {
        "id": "OtqBUMsqzL-R",
        "outputId": "fb81dc66-78b3-4356-85a1-98b00b133640",
        "colab": {
          "base_uri": "https://localhost:8080/"
        }
      },
      "execution_count": 14,
      "outputs": [
        {
          "output_type": "execute_result",
          "data": {
            "text/plain": [
              "207"
            ]
          },
          "metadata": {},
          "execution_count": 14
        }
      ]
    },
    {
      "cell_type": "code",
      "source": [
        "list(dataset)[0].y[0] # we have 12 points for each bucket -> 12 * 5 min = 1h"
      ],
      "metadata": {
        "id": "4a_BLsuAzigk",
        "outputId": "db50f9c1-3384-47a9-957c-9fd1bb14f827",
        "colab": {
          "base_uri": "https://localhost:8080/"
        }
      },
      "execution_count": 15,
      "outputs": [
        {
          "output_type": "execute_result",
          "data": {
            "text/plain": [
              "tensor([0.3724, 0.2452, 0.4961, 0.6521, 0.1126, 0.5311, 0.5091, 0.4713, 0.4218,\n",
              "        0.3909, 0.4761, 0.5641])"
            ]
          },
          "metadata": {},
          "execution_count": 15
        }
      ]
    },
    {
      "cell_type": "code",
      "execution_count": 20,
      "metadata": {
        "execution": {
          "iopub.execute_input": "2021-12-26T14:44:42.370207Z",
          "iopub.status.busy": "2021-12-26T14:44:42.312179Z",
          "iopub.status.idle": "2021-12-26T14:44:43.852514Z",
          "shell.execute_reply": "2021-12-26T14:44:43.853020Z",
          "shell.execute_reply.started": "2021-12-26T14:27:33.878048Z"
        },
        "papermill": {
          "duration": 1.621518,
          "end_time": "2021-12-26T14:44:43.853164",
          "exception": false,
          "start_time": "2021-12-26T14:44:42.231646",
          "status": "completed"
        },
        "tags": [],
        "id": "bYmyGpbnuG-S",
        "outputId": "3918c976-3f62-45c1-c6f8-32df6d5e756d",
        "colab": {
          "base_uri": "https://localhost:8080/",
          "height": 430
        }
      },
      "outputs": [
        {
          "output_type": "display_data",
          "data": {
            "text/plain": [
              "<Figure size 640x480 with 1 Axes>"
            ],
            "image/png": "[encoded data removed]"
          },
          "metadata": {}
        }
      ],
      "source": [
        "# Visualize traffic over time\n",
        "sensor_number = 1\n",
        "hours = 24\n",
        "sensor_labels = [bucket.y[sensor_number][0].item() for bucket in list(dataset)[:hours]]\n",
        "plt.plot(sensor_labels);"
      ]
    },
    {
      "cell_type": "markdown",
      "metadata": {
        "papermill": {
          "duration": 0.033697,
          "end_time": "2021-12-26T14:44:43.929710",
          "exception": false,
          "start_time": "2021-12-26T14:44:43.896013",
          "status": "completed"
        },
        "tags": [],
        "id": "XNWjNSaeuG-T"
      },
      "source": [
        "# Test Train Split"
      ]
    },
    {
      "cell_type": "code",
      "execution_count": 24,
      "metadata": {
        "execution": {
          "iopub.execute_input": "2021-12-26T14:44:43.982843Z",
          "iopub.status.busy": "2021-12-26T14:44:43.978087Z",
          "iopub.status.idle": "2021-12-26T14:44:45.285472Z",
          "shell.execute_reply": "2021-12-26T14:44:45.286043Z",
          "shell.execute_reply.started": "2021-12-26T14:27:35.470260Z"
        },
        "papermill": {
          "duration": 1.33781,
          "end_time": "2021-12-26T14:44:45.286218",
          "exception": false,
          "start_time": "2021-12-26T14:44:43.948408",
          "status": "completed"
        },
        "tags": [],
        "id": "p1WsnplBuG-U",
        "outputId": "a69ce47f-bce8-4098-fa57-d8f3e33ab2df",
        "colab": {
          "base_uri": "https://localhost:8080/"
        }
      },
      "outputs": [
        {
          "output_type": "stream",
          "name": "stdout",
          "text": [
            "Number of train buckets:  27399\n",
            "Number of test buckets:  6850\n"
          ]
        }
      ],
      "source": [
        "train_dataset, test_dataset = temporal_signal_split(dataset, train_ratio=0.8)\n",
        "\n",
        "print(\"Number of train buckets: \", len(list(train_dataset)))\n",
        "print(\"Number of test buckets: \", len(list(test_dataset)))"
      ]
    },
    {
      "cell_type": "markdown",
      "metadata": {
        "papermill": {
          "duration": 0.019118,
          "end_time": "2021-12-26T14:44:45.325730",
          "exception": false,
          "start_time": "2021-12-26T14:44:45.306612",
          "status": "completed"
        },
        "tags": [],
        "id": "1LcwIFhCuG-W"
      },
      "source": [
        "# Creating DataLoaders\n"
      ]
    },
    {
      "cell_type": "code",
      "execution_count": 25,
      "metadata": {
        "execution": {
          "iopub.execute_input": "2021-12-26T14:44:45.374077Z",
          "iopub.status.busy": "2021-12-26T14:44:45.373097Z",
          "iopub.status.idle": "2021-12-26T14:45:16.840268Z",
          "shell.execute_reply": "2021-12-26T14:45:16.839682Z",
          "shell.execute_reply.started": "2021-12-26T14:27:36.727755Z"
        },
        "papermill": {
          "duration": 31.495574,
          "end_time": "2021-12-26T14:45:16.840390",
          "exception": false,
          "start_time": "2021-12-26T14:44:45.344816",
          "status": "completed"
        },
        "tags": [],
        "id": "D-aV4pu2uG-W"
      },
      "outputs": [],
      "source": [
        "train_input = np.array(train_dataset.features) # (27399, 207, 2, 12)\n",
        "train_target = np.array(train_dataset.targets) # (27399, 207, 12)\n",
        "train_x_tensor = torch.from_numpy(train_input).type(torch.FloatTensor).to(DEVICE)  # (B, N, F, T)\n",
        "train_target_tensor = torch.from_numpy(train_target).type(torch.FloatTensor).to(DEVICE)  # (B, N, T)\n",
        "train_dataset_new = torch.utils.data.TensorDataset(train_x_tensor, train_target_tensor)\n",
        "train_loader = torch.utils.data.DataLoader(train_dataset_new, batch_size=batch_size, shuffle=shuffle,drop_last=True)"
      ]
    },
    {
      "cell_type": "code",
      "execution_count": 26,
      "metadata": {
        "execution": {
          "iopub.execute_input": "2021-12-26T14:45:16.886780Z",
          "iopub.status.busy": "2021-12-26T14:45:16.885865Z",
          "iopub.status.idle": "2021-12-26T14:45:17.010178Z",
          "shell.execute_reply": "2021-12-26T14:45:17.009681Z",
          "shell.execute_reply.started": "2021-12-26T14:28:07.974097Z"
        },
        "papermill": {
          "duration": 0.150197,
          "end_time": "2021-12-26T14:45:17.010312",
          "exception": false,
          "start_time": "2021-12-26T14:45:16.860115",
          "status": "completed"
        },
        "tags": [],
        "id": "Kdgb1x_3uG-Y"
      },
      "outputs": [],
      "source": [
        "test_input = np.array(test_dataset.features) # (, 207, 2, 12)\n",
        "test_target = np.array(test_dataset.targets) # (, 207, 12)\n",
        "test_x_tensor = torch.from_numpy(test_input).type(torch.FloatTensor).to(DEVICE)  # (B, N, F, T)\n",
        "test_target_tensor = torch.from_numpy(test_target).type(torch.FloatTensor).to(DEVICE)  # (B, N, T)\n",
        "test_dataset_new = torch.utils.data.TensorDataset(test_x_tensor, test_target_tensor)\n",
        "test_loader = torch.utils.data.DataLoader(test_dataset_new, batch_size=batch_size, shuffle=shuffle,drop_last=True)"
      ]
    },
    {
      "cell_type": "markdown",
      "metadata": {
        "papermill": {
          "duration": 0.018593,
          "end_time": "2021-12-26T14:45:17.047998",
          "exception": false,
          "start_time": "2021-12-26T14:45:17.029405",
          "status": "completed"
        },
        "tags": [],
        "id": "1UH-7Ls-uG-Y"
      },
      "source": [
        "## Model\n",
        "\n",
        "Which model to choose depends on which time-series task you work on.\n",
        "\n",
        "- A3TGCN is an extension of TGCN that uses attention\n",
        "- The spatial aggregation uses GCN, the temporal aggregation a GRU\n",
        "- We can pass in periods to get an embedding for several timesteps\n",
        "- This embedding can be used to predict several steps into the future = output dimension\n",
        "- We could also do this in a loop and feed it again into the model (would be autoregressive)\n",
        "- There is only one block here. Other layers also allow stacking???\n",
        "\n",
        "<html>\n",
        "<img src=\"https://i.ibb.co/WxrJQbc/a3tgcn.png\", height=\"300\"></img>"
      ]
    },
    {
      "cell_type": "markdown",
      "metadata": {
        "papermill": {
          "duration": 0.018337,
          "end_time": "2021-12-26T14:45:17.085185",
          "exception": false,
          "start_time": "2021-12-26T14:45:17.066848",
          "status": "completed"
        },
        "tags": [],
        "id": "mW-HzmFouG-Z"
      },
      "source": [
        "# TGCN model\n",
        "A temporal GCN (T-GCN) model was constructed by combining GCN and GRU.\n",
        "\n",
        "n historical time series traffic data were inputted into the T-GCN model to obtain n hidden states (h) that covered spatiotemporal characteristics:{h(t−n), · · · , h(t−1), h(t)}\n",
        "\n",
        "\n",
        "ut = σ(Wu ∗ (GC(A, Xt), ht−1))\n",
        "\n",
        "rt = σ(Wr ∗ (GC(A, Xt), ht−1))\n",
        "\n",
        "ct = tanh(Wc ∗ (GC(A, Xt), (rt ∗ ht−1)))\n",
        "\n",
        "ht = ut ∗ ht−1 + (1 − ut) ∗ ct)\n",
        "\n",
        "\n",
        "Then, the hidden states were inputted into the attention model to determine the context vector that covers the global traffic variation information. Particularly, the weight of each h was calculated by Softmax using a multilayer perception:{at−n, · · · , at−1, at}.The context vector that covers global traffic variation information is calculated by the weighted sum.\n"
      ]
    },
    {
      "cell_type": "markdown",
      "metadata": {
        "papermill": {
          "duration": 0.018547,
          "end_time": "2021-12-26T14:45:17.122157",
          "exception": false,
          "start_time": "2021-12-26T14:45:17.103610",
          "status": "completed"
        },
        "tags": [],
        "id": "Mocg7coBuG-a"
      },
      "source": [
        "# A3TGCN Model\n",
        "The A3TGCN is an extention of the TGCN model by adding an attention mechanism.\n",
        "\n",
        "The attention mechanism was introduced to re-weight the influence of historical traffic states and thus to capture the global variation trends of traffic state"
      ]
    },
    {
      "cell_type": "code",
      "execution_count": 27,
      "metadata": {
        "execution": {
          "iopub.execute_input": "2021-12-26T14:45:17.167230Z",
          "iopub.status.busy": "2021-12-26T14:45:17.166722Z",
          "iopub.status.idle": "2021-12-26T14:45:17.181682Z",
          "shell.execute_reply": "2021-12-26T14:45:17.181219Z",
          "shell.execute_reply.started": "2021-12-26T14:28:08.105670Z"
        },
        "papermill": {
          "duration": 0.041032,
          "end_time": "2021-12-26T14:45:17.181766",
          "exception": false,
          "start_time": "2021-12-26T14:45:17.140734",
          "status": "completed"
        },
        "tags": [],
        "id": "Exb40be2uG-a",
        "outputId": "56b6d0ee-3f9f-48ef-b40d-e24e47d37a5b",
        "colab": {
          "base_uri": "https://localhost:8080/"
        }
      },
      "outputs": [
        {
          "output_type": "execute_result",
          "data": {
            "text/plain": [
              "TemporalGNN(\n",
              "  (tgnn): A3TGCN2(\n",
              "    (_base_tgcn): TGCN2(\n",
              "      (conv_z): GCNConv(2, 32)\n",
              "      (linear_z): Linear(in_features=64, out_features=32, bias=True)\n",
              "      (conv_r): GCNConv(2, 32)\n",
              "      (linear_r): Linear(in_features=64, out_features=32, bias=True)\n",
              "      (conv_h): GCNConv(2, 32)\n",
              "      (linear_h): Linear(in_features=64, out_features=32, bias=True)\n",
              "    )\n",
              "  )\n",
              "  (linear): Linear(in_features=32, out_features=12, bias=True)\n",
              ")"
            ]
          },
          "metadata": {},
          "execution_count": 27
        }
      ],
      "source": [
        "class TemporalGNN(torch.nn.Module):\n",
        "    def __init__(self, node_features, periods, batch_size):\n",
        "        super(TemporalGNN, self).__init__()\n",
        "        # Attention Temporal Graph Convolutional Cell\n",
        "        self.tgnn = A3TGCN2(in_channels=node_features,  out_channels=32, periods=periods,batch_size=batch_size) # node_features=2, periods=12\n",
        "        # Equals single-shot prediction\n",
        "        self.linear = torch.nn.Linear(32, periods)\n",
        "\n",
        "    def forward(self, x, edge_index):\n",
        "        \"\"\"\n",
        "        x = Node features for T time steps\n",
        "        edge_index = Graph edge indices\n",
        "        \"\"\"\n",
        "        h = self.tgnn(x, edge_index) # x [b, 207, 2, 12]  returns h [b, 207, 12]\n",
        "        h = F.relu(h)\n",
        "        h = self.linear(h)\n",
        "        return h\n",
        "\n",
        "TemporalGNN(node_features=2, periods=12, batch_size=2)"
      ]
    },
    {
      "cell_type": "markdown",
      "metadata": {
        "papermill": {
          "duration": 0.01927,
          "end_time": "2021-12-26T14:45:17.220204",
          "exception": false,
          "start_time": "2021-12-26T14:45:17.200934",
          "status": "completed"
        },
        "tags": [],
        "id": "M68iEwiRuG-c"
      },
      "source": [
        "## Training"
      ]
    },
    {
      "cell_type": "code",
      "execution_count": 28,
      "metadata": {
        "execution": {
          "iopub.execute_input": "2021-12-26T14:45:17.274663Z",
          "iopub.status.busy": "2021-12-26T14:45:17.273722Z",
          "iopub.status.idle": "2021-12-26T14:45:17.301756Z",
          "shell.execute_reply": "2021-12-26T14:45:17.300951Z",
          "shell.execute_reply.started": "2021-12-25T23:05:32.708582Z"
        },
        "papermill": {
          "duration": 0.059799,
          "end_time": "2021-12-26T14:45:17.301931",
          "exception": false,
          "start_time": "2021-12-26T14:45:17.242132",
          "status": "completed"
        },
        "tags": [],
        "id": "FcnC30C_uG-d",
        "outputId": "8b3ecd41-2c03-4dc4-8543-0b54b5ed2861",
        "colab": {
          "base_uri": "https://localhost:8080/"
        }
      },
      "outputs": [
        {
          "output_type": "stream",
          "name": "stdout",
          "text": [
            "Net's state_dict:\n",
            "tgnn._attention \t torch.Size([12])\n",
            "tgnn._base_tgcn.conv_z.bias \t torch.Size([32])\n",
            "tgnn._base_tgcn.conv_z.lin.weight \t torch.Size([32, 2])\n",
            "tgnn._base_tgcn.linear_z.weight \t torch.Size([32, 64])\n",
            "tgnn._base_tgcn.linear_z.bias \t torch.Size([32])\n",
            "tgnn._base_tgcn.conv_r.bias \t torch.Size([32])\n",
            "tgnn._base_tgcn.conv_r.lin.weight \t torch.Size([32, 2])\n",
            "tgnn._base_tgcn.linear_r.weight \t torch.Size([32, 64])\n",
            "tgnn._base_tgcn.linear_r.bias \t torch.Size([32])\n",
            "tgnn._base_tgcn.conv_h.bias \t torch.Size([32])\n",
            "tgnn._base_tgcn.conv_h.lin.weight \t torch.Size([32, 2])\n",
            "tgnn._base_tgcn.linear_h.weight \t torch.Size([32, 64])\n",
            "tgnn._base_tgcn.linear_h.bias \t torch.Size([32])\n",
            "linear.weight \t torch.Size([12, 32])\n",
            "linear.bias \t torch.Size([12])\n",
            "Net's total params: 6936\n",
            "Optimizer's state_dict:\n",
            "state \t {}\n",
            "param_groups \t [{'lr': 0.001, 'betas': (0.9, 0.999), 'eps': 1e-08, 'weight_decay': 0, 'amsgrad': False, 'maximize': False, 'foreach': None, 'capturable': False, 'differentiable': False, 'fused': None, 'params': [0, 1, 2, 3, 4, 5, 6, 7, 8, 9, 10, 11, 12, 13, 14]}]\n"
          ]
        }
      ],
      "source": [
        "\n",
        "# Create model and optimizers\n",
        "model = TemporalGNN(node_features=2, periods=12, batch_size=batch_size).to(DEVICE)\n",
        "optimizer = torch.optim.Adam(model.parameters(), lr=0.001)\n",
        "loss_fn = torch.nn.MSELoss()\n",
        "\n",
        "\n",
        "print('Net\\'s state_dict:')\n",
        "total_param = 0\n",
        "for param_tensor in model.state_dict():\n",
        "    print(param_tensor, '\\t', model.state_dict()[param_tensor].size())\n",
        "    total_param += np.prod(model.state_dict()[param_tensor].size())\n",
        "print('Net\\'s total params:', total_param)\n",
        "#--------------------------------------------------\n",
        "print('Optimizer\\'s state_dict:')\n",
        "for var_name in optimizer.state_dict():\n",
        "    print(var_name, '\\t', optimizer.state_dict()[var_name])"
      ]
    },
    {
      "cell_type": "markdown",
      "metadata": {
        "papermill": {
          "duration": 0.020038,
          "end_time": "2021-12-26T14:45:17.343900",
          "exception": false,
          "start_time": "2021-12-26T14:45:17.323862",
          "status": "completed"
        },
        "tags": [],
        "id": "aVOw67X6uG-f"
      },
      "source": [
        "# Loading the graph once\n",
        "because it's a static graph"
      ]
    },
    {
      "cell_type": "code",
      "execution_count": 31,
      "metadata": {
        "execution": {
          "iopub.execute_input": "2021-12-26T14:45:17.387739Z",
          "iopub.status.busy": "2021-12-26T14:45:17.387103Z",
          "iopub.status.idle": "2021-12-26T14:45:17.390422Z",
          "shell.execute_reply": "2021-12-26T14:45:17.389947Z",
          "shell.execute_reply.started": "2021-12-25T23:05:32.742421Z"
        },
        "papermill": {
          "duration": 0.026807,
          "end_time": "2021-12-26T14:45:17.390513",
          "exception": false,
          "start_time": "2021-12-26T14:45:17.363706",
          "status": "completed"
        },
        "tags": [],
        "id": "JieQYclRuG-f"
      },
      "outputs": [],
      "source": [
        "for snapshot in train_dataset:\n",
        "    static_edge_index = snapshot.edge_index.to(DEVICE)\n",
        "    break;"
      ]
    },
    {
      "cell_type": "code",
      "execution_count": 30,
      "metadata": {
        "execution": {
          "iopub.execute_input": "2021-12-26T14:45:17.437982Z",
          "iopub.status.busy": "2021-12-26T14:45:17.437484Z",
          "iopub.status.idle": "2021-12-26T14:46:13.161937Z",
          "shell.execute_reply": "2021-12-26T14:46:13.161017Z",
          "shell.execute_reply.started": "2021-12-25T23:05:32.751777Z"
        },
        "papermill": {
          "duration": 55.751589,
          "end_time": "2021-12-26T14:46:13.162096",
          "exception": false,
          "start_time": "2021-12-26T14:45:17.410507",
          "status": "completed"
        },
        "tags": [],
        "id": "bVZlTPu_uG-g",
        "outputId": "1a23c882-3e28-4f69-b56f-25e3d1b80595",
        "colab": {
          "base_uri": "https://localhost:8080/"
        }
      },
      "outputs": [
        {
          "output_type": "stream",
          "name": "stdout",
          "text": [
            "0.7752972075343132\n",
            "0.6466131038963795\n",
            "0.5965472235282262\n",
            "0.574592646509409\n",
            "0.5593712021112442\n",
            "0.5462044189870358\n",
            "0.5347955839123044\n",
            "0.5253259939327836\n",
            "Epoch 0 train RMSE: 0.5198\n"
          ]
        }
      ],
      "source": [
        "model.train()\n",
        "\n",
        "for epoch in range(1):\n",
        "    step = 0\n",
        "    loss_list = []\n",
        "    for encoder_inputs, labels in train_loader:\n",
        "        y_hat = model(encoder_inputs, static_edge_index)         # Get model predictions\n",
        "        loss = loss_fn(y_hat, labels) # Mean squared error #loss = torch.mean((y_hat-labels)**2)  sqrt to change it to rmse\n",
        "        loss.backward()\n",
        "        optimizer.step()\n",
        "        optimizer.zero_grad()\n",
        "        step= step+ 1\n",
        "        loss_list.append(loss.item())\n",
        "        if step % 100 == 0 :\n",
        "            print(sum(loss_list)/len(loss_list))\n",
        "    print(\"Epoch {} train RMSE: {:.4f}\".format(epoch, sum(loss_list)/len(loss_list)))"
      ]
    },
    {
      "cell_type": "markdown",
      "metadata": {
        "papermill": {
          "duration": 0.022713,
          "end_time": "2021-12-26T14:46:13.250898",
          "exception": false,
          "start_time": "2021-12-26T14:46:13.228185",
          "status": "completed"
        },
        "tags": [],
        "id": "aUQIxz-xuG-h"
      },
      "source": [
        "## Evaluation\n",
        "\n",
        "- Lets get some sample predictions for a specific horizon (e.g. 288/12 = 24 hours)\n",
        "- The model always gets one hour and needs to predict the next hour"
      ]
    },
    {
      "cell_type": "code",
      "execution_count": 32,
      "metadata": {
        "execution": {
          "iopub.execute_input": "2021-12-26T14:46:13.301157Z",
          "iopub.status.busy": "2021-12-26T14:46:13.300285Z",
          "iopub.status.idle": "2021-12-26T14:46:23.410533Z",
          "shell.execute_reply": "2021-12-26T14:46:23.411181Z",
          "shell.execute_reply.started": "2021-12-25T22:37:06.708018Z"
        },
        "papermill": {
          "duration": 10.1385,
          "end_time": "2021-12-26T14:46:23.411366",
          "exception": false,
          "start_time": "2021-12-26T14:46:13.272866",
          "status": "completed"
        },
        "tags": [],
        "id": "RdkcVOJruG-h",
        "outputId": "af8bed28-c14b-4e8b-ecb4-ff7e023decdf",
        "colab": {
          "base_uri": "https://localhost:8080/"
        }
      },
      "outputs": [
        {
          "output_type": "stream",
          "name": "stdout",
          "text": [
            "Test MSE: 0.5964\n"
          ]
        }
      ],
      "source": [
        "model.eval()\n",
        "step = 0\n",
        "# Store for analysis\n",
        "total_loss = []\n",
        "for encoder_inputs, labels in test_loader:\n",
        "    # Get model predictions\n",
        "    y_hat = model(encoder_inputs, static_edge_index)\n",
        "    # Mean squared error\n",
        "    loss = loss_fn(y_hat, labels)\n",
        "    total_loss.append(loss.item())\n",
        "    # Store for analysis below\n",
        "    #test_labels.append(labels)\n",
        "    #predictions.append(y_hat)\n",
        "\n",
        "\n",
        "print(\"Test MSE: {:.4f}\".format(sum(total_loss)/len(total_loss)))"
      ]
    },
    {
      "cell_type": "markdown",
      "metadata": {
        "papermill": {
          "duration": 0.021809,
          "end_time": "2021-12-26T14:46:23.456452",
          "exception": false,
          "start_time": "2021-12-26T14:46:23.434643",
          "status": "completed"
        },
        "tags": [],
        "id": "LWLluMJxuG-i"
      },
      "source": [
        "### Visualization\n",
        "\n",
        "- The further away the point in time is, the worse the predictions get\n",
        "- Predictions shape: [num_data_points, num_sensors, num_timesteps]"
      ]
    },
    {
      "cell_type": "code",
      "execution_count": 33,
      "metadata": {
        "execution": {
          "iopub.execute_input": "2021-12-26T14:46:23.506391Z",
          "iopub.status.busy": "2021-12-26T14:46:23.505530Z",
          "iopub.status.idle": "2021-12-26T14:46:23.511700Z",
          "shell.execute_reply": "2021-12-26T14:46:23.512123Z",
          "shell.execute_reply.started": "2021-12-25T19:05:28.569378Z"
        },
        "papermill": {
          "duration": 0.0341,
          "end_time": "2021-12-26T14:46:23.512227",
          "exception": false,
          "start_time": "2021-12-26T14:46:23.478127",
          "status": "completed"
        },
        "tags": [],
        "id": "Fzn2MOpPuG-i",
        "outputId": "dcc14671-f855-4b37-bb60-6b94ad124c70",
        "colab": {
          "base_uri": "https://localhost:8080/"
        }
      },
      "outputs": [
        {
          "output_type": "stream",
          "name": "stdout",
          "text": [
            "Data points:, (32,)\n"
          ]
        }
      ],
      "source": [
        "sensor = 123\n",
        "timestep = 11\n",
        "preds = np.asarray([pred[sensor][timestep].detach().cpu().numpy() for pred in y_hat])\n",
        "labs  = np.asarray([label[sensor][timestep].cpu().numpy() for label in labels])\n",
        "print(\"Data points:,\", preds.shape)"
      ]
    },
    {
      "cell_type": "code",
      "execution_count": 34,
      "metadata": {
        "execution": {
          "iopub.execute_input": "2021-12-26T14:46:23.572365Z",
          "iopub.status.busy": "2021-12-26T14:46:23.571817Z",
          "iopub.status.idle": "2021-12-26T14:46:23.787013Z",
          "shell.execute_reply": "2021-12-26T14:46:23.786488Z",
          "shell.execute_reply.started": "2021-12-25T19:05:29.188303Z"
        },
        "papermill": {
          "duration": 0.251559,
          "end_time": "2021-12-26T14:46:23.787119",
          "exception": false,
          "start_time": "2021-12-26T14:46:23.535560",
          "status": "completed"
        },
        "tags": [],
        "id": "-eSMAHxcuG-j",
        "outputId": "3fb25f72-74f2-4aa5-cad9-6a1bdda1e316",
        "colab": {
          "base_uri": "https://localhost:8080/",
          "height": 308
        }
      },
      "outputs": [
        {
          "output_type": "execute_result",
          "data": {
            "text/plain": [
              "<Axes: >"
            ]
          },
          "metadata": {},
          "execution_count": 34
        },
        {
          "output_type": "display_data",
          "data": {
            "text/plain": [
              "<Figure size 2000x500 with 1 Axes>"
            ],
            "image/png": "[encoded data removed]"
          },
          "metadata": {}
        }
      ],
      "source": [
        "plt.figure(figsize=(20,5))\n",
        "sns.lineplot(data=preds, label=\"pred\")\n",
        "sns.lineplot(data=labs, label=\"true\")"
      ]
    }
  ],
  "metadata": {
    "kernelspec": {
      "display_name": "Python 3",
      "name": "python3"
    },
    "language_info": {
      "codemirror_mode": {
        "name": "ipython",
        "version": 3
      },
      "file_extension": ".py",
      "mimetype": "text/x-python",
      "name": "python",
      "nbconvert_exporter": "python",
      "pygments_lexer": "ipython3",
      "version": "3.7.6"
    },
    "papermill": {
      "duration": 159.672275,
      "end_time": "2021-12-26T14:46:24.067327",
      "environment_variables": {},
      "exception": null,
      "input_path": "__notebook__.ipynb",
      "output_path": "__notebook__.ipynb",
      "parameters": {},
      "start_time": "2021-12-26T14:43:44.395052",
      "version": "2.1.0"
    },
    "colab": {
      "provenance": [],
      "gpuType": "T4"
    },
    "accelerator": "GPU"
  },
  "nbformat": 4,
  "nbformat_minor": 0
}