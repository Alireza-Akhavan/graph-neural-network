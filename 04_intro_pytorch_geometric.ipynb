{
  "nbformat": 4,
  "nbformat_minor": 0,
  "metadata": {
    "colab": {
      "provenance": []
    },
    "kernelspec": {
      "name": "python3",
      "display_name": "Python 3"
    },
    "language_info": {
      "name": "python"
    }
  },
  "cells": [
    {
      "cell_type": "markdown",
      "source": [
        "# Install required packages.\n"
      ],
      "metadata": {
        "id": "Gz0xEtf_YHWy"
      }
    },
    {
      "cell_type": "code",
      "source": [
        "import os\n",
        "import torch\n",
        "os.environ['TORCH'] = torch.__version__\n",
        "print(torch.__version__)\n",
        "\n",
        "!pip install -q git+https://github.com/pyg-team/pytorch_geometric.git"
      ],
      "metadata": {
        "colab": {
          "base_uri": "https://localhost:8080/"
        },
        "id": "vVEPQV4qXMb8",
        "outputId": "7e7cfa33-4015-4aa7-cb81-de611ced2827"
      },
      "execution_count": 3,
      "outputs": [
        {
          "output_type": "stream",
          "name": "stdout",
          "text": [
            "2.0.1+cu118\n",
            "  Installing build dependencies ... \u001b[?25l\u001b[?25hdone\n",
            "  Getting requirements to build wheel ... \u001b[?25l\u001b[?25hdone\n",
            "  Preparing metadata (pyproject.toml) ... \u001b[?25l\u001b[?25hdone\n",
            "  Building wheel for torch_geometric (pyproject.toml) ... \u001b[?25l\u001b[?25hdone\n"
          ]
        }
      ]
    },
    {
      "cell_type": "markdown",
      "source": [
        "# Import required packages.\n"
      ],
      "metadata": {
        "id": "U81s5AlkYJSp"
      }
    },
    {
      "cell_type": "code",
      "source": [
        "import torch\n",
        "from torch_geometric.data import Data\n",
        "import networkx as nx\n",
        "from torch_geometric.utils.convert import to_networkx"
      ],
      "metadata": {
        "id": "F9-FvyyrXFYE"
      },
      "execution_count": 5,
      "outputs": []
    },
    {
      "cell_type": "markdown",
      "source": [
        "# Define a graph\n"
      ],
      "metadata": {
        "id": "BNQAnS6sYO8J"
      }
    },
    {
      "cell_type": "code",
      "execution_count": 7,
      "metadata": {
        "id": "0rwCxgTSXDnf"
      },
      "outputs": [],
      "source": [
        "# a graph with 4 nodes\n",
        "edge_list = torch.tensor([\n",
        "                         [0, 0, 0, 1, 2, 2, 3, 3], # Source Nodes\n",
        "                         [1, 2, 3, 0, 0, 3, 2, 0]  # Target Nodes\n",
        "                        ], dtype=torch.long)\n",
        "\n",
        "# 6 Features for each node (4x6 - Number of nodes x NUmber of features)\n",
        "\n",
        "node_features = torch.tensor([\n",
        "                            [-8, 1, 5, 8, 2, -3], # Features of Node 0\n",
        "                            [-1, 0, 2, -3, 0, 1], # Features of Node 1\n",
        "                            [1, -1, 0, -1, 2, 1], # Features of Node 2\n",
        "                            [0, 1, 4, -2, 3, 4], # Features of Node 3\n",
        "                            ],dtype=torch.long)\n",
        "\n",
        "# 1 Weight for each edge \n",
        "\n",
        "edge_weight = torch.tensor([\n",
        "                            [35.], # Weight for nodes (0,1)\n",
        "                            [48.], # Weight for nodes (0,2)\n",
        "                            [12.], # Weight for nodes (0,3)\n",
        "                            [10.], # Weight for nodes (1,0)\n",
        "                            [70.], # Weight for nodes (2,0)\n",
        "                            [5.], # Weight for nodes (2,3)\n",
        "                            [15.], # Weight for nodes (3,2)\n",
        "                            [8.], # Weight for nodes (3,0)   \n",
        "                            ],dtype=torch.long)\n"
      ]
    },
    {
      "cell_type": "markdown",
      "source": [
        "# Make a data object to store graph informaiton "
      ],
      "metadata": {
        "id": "fPFGmj3BYSNS"
      }
    },
    {
      "cell_type": "code",
      "source": [
        "data = Data(x=node_features, edge_index=edge_list, edge_attr=edge_weight)"
      ],
      "metadata": {
        "id": "BGRg9UnXX2aG"
      },
      "execution_count": 8,
      "outputs": []
    },
    {
      "cell_type": "code",
      "source": [
        "\" Print the graph info \"\n",
        "print(\"Number of nodes: \", data.num_nodes)\n",
        "print(\"Number of edges: \",data.num_edges)\n",
        "print(\"Number of features per node (Length of feature vector): \", data.num_node_features,\"\\n\")\n",
        "print(\"Number of weights per edge (edge-features): \", data.num_edge_features, \"\\n\")"
      ],
      "metadata": {
        "colab": {
          "base_uri": "https://localhost:8080/"
        },
        "id": "_Zb-KEVxX7ME",
        "outputId": "9f22ad01-147d-4c93-e563-445c896036e8"
      },
      "execution_count": 9,
      "outputs": [
        {
          "output_type": "stream",
          "name": "stdout",
          "text": [
            "Number of nodes:  4\n",
            "Number of edges:  8\n",
            "Number of features per node (Length of feature vector):  6 \n",
            "\n",
            "Number of weights per edge (edge-features):  1 \n",
            "\n"
          ]
        }
      ]
    },
    {
      "cell_type": "markdown",
      "source": [
        "# Plot the graph \n"
      ],
      "metadata": {
        "id": "hG9iy6s1YUlJ"
      }
    },
    {
      "cell_type": "code",
      "source": [
        "G = to_networkx(data)\n",
        "nx.draw_networkx(G)"
      ],
      "metadata": {
        "colab": {
          "base_uri": "https://localhost:8080/",
          "height": 406
        },
        "id": "oU-XYQ07X_Qe",
        "outputId": "69362747-bb3a-4d79-a714-8d08438f2c86"
      },
      "execution_count": 10,
      "outputs": [
        {
          "output_type": "display_data",
          "data": {
            "text/plain": [
              "<Figure size 640x480 with 1 Axes>"
            ],
            "image/png": "[encoded data removed]"
          },
          "metadata": {}
        }
      ]
    }
  ]
}